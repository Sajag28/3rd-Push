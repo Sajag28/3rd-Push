{
  "nbformat": 4,
  "nbformat_minor": 0,
  "metadata": {
    "colab": {
      "provenance": [],
      "authorship_tag": "ABX9TyOunjxgj4z5p9qDVx0AVCqD",
      "include_colab_link": true
    },
    "kernelspec": {
      "name": "python3",
      "display_name": "Python 3"
    },
    "language_info": {
      "name": "python"
    }
  },
  "cells": [
    {
      "cell_type": "markdown",
      "metadata": {
        "id": "view-in-github",
        "colab_type": "text"
      },
      "source": [
        "<a href=\"https://colab.research.google.com/github/Sajag28/3rd-Push/blob/main/Building_Custom_Neural_Networks.ipynb\" target=\"_parent\"><img src=\"https://colab.research.google.com/assets/colab-badge.svg\" alt=\"Open In Colab\"/></a>"
      ]
    },
    {
      "cell_type": "code",
      "execution_count": null,
      "metadata": {
        "id": "_qI67_ToZz7H"
      },
      "outputs": [],
      "source": [
        "import os\n",
        "os.environ['TF_CPP_MIN_LOG_LEVEL']='2'\n",
        "import tensorflow as tf\n",
        "from tensorflow import keras\n",
        "from tensorflow.keras.datasets import mnist\n",
        "keras.layers=tf.keras.layers\n",
        "\n",
        "(x_train,y_train),(x_test,y_test)=mnist.load_data()\n",
        "x_train=x_train.astype(\"float32\")/255.0\n",
        "x_test=x_test.astype(\"float32\")/255.0\n",
        "\n",
        "class Dense(keras.layers.Layer):\n",
        "  def__init__(self,units,input_dim):\n",
        "    super(Dense,self).__init__()\n",
        "    self.w=self.add_weight(\n",
        "        name='w',\n",
        "        shape=(input_dim,units),\n",
        "        initializer-'random_normal',\n",
        "        trainable=True,\n",
        "    )\n",
        "    self.b=self.add_weight(\n",
        "        name='b',shape=(units, ), initializer='zeros', trainable=True,\n",
        "    )\n",
        "  def call(self,inputs):\n",
        "    return tf.matmul(inputs,self.w)+self.b\n",
        "\n",
        "class MyModel(keras.layers.Model):\n",
        "  def__init__(self,num_classes=10):\n",
        "    super(MyModel,self).__init__()\n",
        "    self.dense1=keras.layers.Dense(64,784)\n",
        "    self.dense2=keras.layers.Dense(10,64)\n",
        "  def call(self,input_tensor):\n",
        "    x=tf.nn.relu(self.dense1(input_tensor))\n",
        "    return self.dense2(x)\n",
        "\n",
        "model=MyModel()\n",
        "model.compile(\n",
        "    loss=keras.losses.SparseCategoricalCrossentropy(from_logits=True),\n",
        "    optimizer=keras.optimizers.Adam(),\n",
        "    metrics=[\"accuracy\"],\n",
        ")\n",
        "model.fit(x_train,y_train,batch_size=32,epochs=2,verbose=2)\n",
        "model.evaluate(x_test,y_test,batch_size=32,verbose=2)\n"
      ]
    }
  ]
}